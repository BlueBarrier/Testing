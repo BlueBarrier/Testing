{
 "cells": [
  {
   "cell_type": "markdown",
   "id": "87bc6f10",
   "metadata": {},
   "source": [
    "# Hola"
   ]
  },
  {
   "cell_type": "markdown",
   "id": "c18e6e89",
   "metadata": {},
   "source": []
  }
 ],
 "metadata": {
  "language_info": {
   "name": "python"
  }
 },
 "nbformat": 4,
 "nbformat_minor": 5
}
